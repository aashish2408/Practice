{
 "cells": [
  {
   "cell_type": "code",
   "execution_count": 132,
   "id": "1be163ca-2451-4bd3-98e7-0d427f403ac0",
   "metadata": {},
   "outputs": [],
   "source": [
    "# Decision Tree\n",
    "import pandas as pd\n",
    "from sklearn.tree import DecisionTreeClassifier \n",
    "from sklearn.model_selection import train_test_split \n",
    "from sklearn import metrics"
   ]
  },
  {
   "cell_type": "code",
   "execution_count": 16,
   "id": "941f0993-e862-4544-802a-a7066a19842d",
   "metadata": {},
   "outputs": [
    {
     "data": {
      "text/html": [
       "<div>\n",
       "<style scoped>\n",
       "    .dataframe tbody tr th:only-of-type {\n",
       "        vertical-align: middle;\n",
       "    }\n",
       "\n",
       "    .dataframe tbody tr th {\n",
       "        vertical-align: top;\n",
       "    }\n",
       "\n",
       "    .dataframe thead th {\n",
       "        text-align: right;\n",
       "    }\n",
       "</style>\n",
       "<table border=\"1\" class=\"dataframe\">\n",
       "  <thead>\n",
       "    <tr style=\"text-align: right;\">\n",
       "      <th></th>\n",
       "      <th>Stock</th>\n",
       "      <th>Volatility</th>\n",
       "      <th>Market Return</th>\n",
       "      <th>Stock return</th>\n",
       "    </tr>\n",
       "  </thead>\n",
       "  <tbody>\n",
       "    <tr>\n",
       "      <th>0</th>\n",
       "      <td>S1</td>\n",
       "      <td>0.15</td>\n",
       "      <td>0.052</td>\n",
       "      <td>0.11460</td>\n",
       "    </tr>\n",
       "    <tr>\n",
       "      <th>1</th>\n",
       "      <td>S2</td>\n",
       "      <td>0.20</td>\n",
       "      <td>0.002</td>\n",
       "      <td>0.04520</td>\n",
       "    </tr>\n",
       "    <tr>\n",
       "      <th>2</th>\n",
       "      <td>S3</td>\n",
       "      <td>0.18</td>\n",
       "      <td>0.094</td>\n",
       "      <td>0.17376</td>\n",
       "    </tr>\n",
       "    <tr>\n",
       "      <th>3</th>\n",
       "      <td>S4</td>\n",
       "      <td>0.69</td>\n",
       "      <td>0.087</td>\n",
       "      <td>0.17008</td>\n",
       "    </tr>\n",
       "    <tr>\n",
       "      <th>4</th>\n",
       "      <td>S5</td>\n",
       "      <td>0.19</td>\n",
       "      <td>0.013</td>\n",
       "      <td>0.06048</td>\n",
       "    </tr>\n",
       "  </tbody>\n",
       "</table>\n",
       "</div>"
      ],
      "text/plain": [
       "  Stock  Volatility  Market Return  Stock return\n",
       "0    S1        0.15          0.052       0.11460\n",
       "1    S2        0.20          0.002       0.04520\n",
       "2    S3        0.18          0.094       0.17376\n",
       "3    S4        0.69          0.087       0.17008\n",
       "4    S5        0.19          0.013       0.06048"
      ]
     },
     "execution_count": 16,
     "metadata": {},
     "output_type": "execute_result"
    }
   ],
   "source": [
    "df = pd.read_csv(\"Stock_data.csv\")\n",
    "df.head()"
   ]
  },
  {
   "cell_type": "code",
   "execution_count": 94,
   "id": "27e393a1-9d86-460e-8c56-089b82b15bca",
   "metadata": {},
   "outputs": [],
   "source": [
    "feature_cols = ['Volatility', 'Market Return']\n",
    "x = df[feature_cols]\n",
    "y = df['Stock return']"
   ]
  },
  {
   "cell_type": "code",
   "execution_count": 96,
   "id": "e8f50e00-cbb0-434c-9846-bcb00921fced",
   "metadata": {},
   "outputs": [],
   "source": [
    "# Split dataset into training set and test set \n",
    "x_train, x_test, y_train, y_test = train_test_split(x, y, test_size=0.3, random_state=1)"
   ]
  },
  {
   "cell_type": "code",
   "execution_count": 98,
   "id": "8816ddfc-4cfb-4952-a494-da830c51f694",
   "metadata": {},
   "outputs": [],
   "source": [
    "import pandas as pd\n",
    "\n",
    "# Convert continuous values into discrete categories\n",
    "y_train_discrete = pd.cut(y_train, bins=3, labels=[0, 1, 2])  # Adjust bins and labels as needed\n",
    "\n",
    "from sklearn.tree import DecisionTreeClassifier\n",
    "\n",
    "clf = DecisionTreeClassifier()  # Use classifier for discrete targets\n",
    "clf = clf.fit(x_train, y_train_discrete)\n",
    "y_pred = clf.predict(x_test)\n"
   ]
  },
  {
   "cell_type": "code",
   "execution_count": 100,
   "id": "60f41d7c-4b05-4435-b622-84fea9720690",
   "metadata": {},
   "outputs": [
    {
     "name": "stdout",
     "output_type": "stream",
     "text": [
      "y_test: 507    0.07516\n",
      "818    0.07104\n",
      "452    0.15772\n",
      "368    0.14808\n",
      "242    0.12720\n",
      "929    0.08852\n",
      "262    0.05292\n",
      "810    0.11532\n",
      "318    0.17460\n",
      "49     0.10016\n",
      "Name: Stock return, dtype: float64\n",
      "y_pred: [0 0 2 2 1 0 0 1 2 1]\n"
     ]
    }
   ],
   "source": [
    "print(\"y_test:\", y_test[:10])  # Print first 10 values\n",
    "print(\"y_pred:\", y_pred[:10])\n"
   ]
  },
  {
   "cell_type": "code",
   "execution_count": 102,
   "id": "394740dc-ce8e-43dc-a7c1-d3cdf033c40c",
   "metadata": {},
   "outputs": [],
   "source": [
    "import pandas as pd\n",
    "\n",
    "y_test_discrete = pd.cut(y_test, bins=3, labels=[0, 1, 2])  # Adjust bins and labels as needed\n"
   ]
  },
  {
   "cell_type": "code",
   "execution_count": 104,
   "id": "2f409c3f-45b3-4f80-8281-1ef1dfe2afc8",
   "metadata": {},
   "outputs": [
    {
     "name": "stdout",
     "output_type": "stream",
     "text": [
      "Accuracy: 0.98\n"
     ]
    }
   ],
   "source": [
    "from sklearn.metrics import accuracy_score\n",
    "\n",
    "print(\"Accuracy:\", accuracy_score(y_test_discrete, y_pred))"
   ]
  },
  {
   "cell_type": "code",
   "execution_count": 112,
   "id": "431e8051-c914-4235-a282-164584773cc5",
   "metadata": {},
   "outputs": [
    {
     "name": "stdout",
     "output_type": "stream",
     "text": [
      "Requirement already satisfied: six in c:\\users\\praveen\\anaconda3\\lib\\site-packages (1.16.0)\n",
      "Note: you may need to restart the kernel to use updated packages.\n"
     ]
    }
   ],
   "source": [
    "pip install six\n"
   ]
  },
  {
   "cell_type": "code",
   "execution_count": 114,
   "id": "2b6c901e-07b4-4cfd-b879-5114faff558a",
   "metadata": {},
   "outputs": [
    {
     "name": "stdout",
     "output_type": "stream",
     "text": [
      "Requirement already satisfied: pydotplus in c:\\users\\praveen\\anaconda3\\lib\\site-packages (2.0.2)\n",
      "Requirement already satisfied: pyparsing>=2.0.1 in c:\\users\\praveen\\anaconda3\\lib\\site-packages (from pydotplus) (3.0.9)\n",
      "Note: you may need to restart the kernel to use updated packages.\n"
     ]
    }
   ],
   "source": [
    "pip install pydotplus\n"
   ]
  },
  {
   "cell_type": "code",
   "execution_count": null,
   "id": "630c00d6-0512-45ff-a4ed-79a4f39eb547",
   "metadata": {},
   "outputs": [],
   "source": []
  }
 ],
 "metadata": {
  "kernelspec": {
   "display_name": "Python 3 (ipykernel)",
   "language": "python",
   "name": "python3"
  },
  "language_info": {
   "codemirror_mode": {
    "name": "ipython",
    "version": 3
   },
   "file_extension": ".py",
   "mimetype": "text/x-python",
   "name": "python",
   "nbconvert_exporter": "python",
   "pygments_lexer": "ipython3",
   "version": "3.12.4"
  }
 },
 "nbformat": 4,
 "nbformat_minor": 5
}
