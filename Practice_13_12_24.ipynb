{
 "cells": [
  {
   "cell_type": "code",
   "execution_count": 2,
   "id": "e961c357-c39c-4b17-a280-e0d5a03c2198",
   "metadata": {},
   "outputs": [
    {
     "data": {
      "text/html": [
       "<div>\n",
       "<style scoped>\n",
       "    .dataframe tbody tr th:only-of-type {\n",
       "        vertical-align: middle;\n",
       "    }\n",
       "\n",
       "    .dataframe tbody tr th {\n",
       "        vertical-align: top;\n",
       "    }\n",
       "\n",
       "    .dataframe thead th {\n",
       "        text-align: right;\n",
       "    }\n",
       "</style>\n",
       "<table border=\"1\" class=\"dataframe\">\n",
       "  <thead>\n",
       "    <tr style=\"text-align: right;\">\n",
       "      <th></th>\n",
       "      <th>Stock</th>\n",
       "      <th>Volatility</th>\n",
       "      <th>Market Return</th>\n",
       "      <th>Stock return</th>\n",
       "    </tr>\n",
       "  </thead>\n",
       "  <tbody>\n",
       "    <tr>\n",
       "      <th>0</th>\n",
       "      <td>S1</td>\n",
       "      <td>0.15</td>\n",
       "      <td>0.052</td>\n",
       "      <td>0.11460</td>\n",
       "    </tr>\n",
       "    <tr>\n",
       "      <th>1</th>\n",
       "      <td>S2</td>\n",
       "      <td>0.20</td>\n",
       "      <td>0.002</td>\n",
       "      <td>0.04520</td>\n",
       "    </tr>\n",
       "    <tr>\n",
       "      <th>2</th>\n",
       "      <td>S3</td>\n",
       "      <td>0.18</td>\n",
       "      <td>0.094</td>\n",
       "      <td>0.17376</td>\n",
       "    </tr>\n",
       "    <tr>\n",
       "      <th>3</th>\n",
       "      <td>S4</td>\n",
       "      <td>0.69</td>\n",
       "      <td>0.087</td>\n",
       "      <td>0.17008</td>\n",
       "    </tr>\n",
       "    <tr>\n",
       "      <th>4</th>\n",
       "      <td>S5</td>\n",
       "      <td>0.19</td>\n",
       "      <td>0.013</td>\n",
       "      <td>0.06048</td>\n",
       "    </tr>\n",
       "  </tbody>\n",
       "</table>\n",
       "</div>"
      ],
      "text/plain": [
       "  Stock  Volatility  Market Return  Stock return\n",
       "0    S1        0.15          0.052       0.11460\n",
       "1    S2        0.20          0.002       0.04520\n",
       "2    S3        0.18          0.094       0.17376\n",
       "3    S4        0.69          0.087       0.17008\n",
       "4    S5        0.19          0.013       0.06048"
      ]
     },
     "execution_count": 2,
     "metadata": {},
     "output_type": "execute_result"
    }
   ],
   "source": [
    "import pandas as pd\n",
    "\n",
    "# Load the dataset to examine its structure and understand its contents\n",
    "data = pd.read_csv(\"Stock_data.csv\")\n",
    "\n",
    "# Display the first few rows to understand the data\n",
    "data.head()\n"
   ]
  },
  {
   "cell_type": "code",
   "execution_count": 10,
   "id": "afbc5ec4-5f09-416f-b876-ae7490ba5d97",
   "metadata": {},
   "outputs": [
    {
     "data": {
      "text/plain": [
       "{'Model': 'Linear Regression',\n",
       " 'Train MSE': 7.230061381851207e-34,\n",
       " 'Test MSE': 7.722979076992815e-34,\n",
       " 'Train R2': 1.0,\n",
       " 'Test R2': 1.0}"
      ]
     },
     "execution_count": 10,
     "metadata": {},
     "output_type": "execute_result"
    }
   ],
   "source": [
    "from sklearn.model_selection import train_test_split\n",
    "\n",
    "# Prepare the data: drop the 'Stock' column and separate features and target\n",
    "features = data[['Volatility', 'Market Return']]\n",
    "target = data['Stock return']\n",
    "\n",
    "# Split the data into training and test sets\n",
    "x_train, x_test, y_train, y_test = train_test_split(features, target, test_size=0.2, random_state=42)\n",
    "\n",
    "# Display the shapes of the training and test sets\n",
    "x_train.shape, x_test.shape, y_train.shape, y_test.shape\n",
    "\n",
    "from sklearn.linear_model import LinearRegression\n",
    "from sklearn.metrics import mean_squared_error, r2_score\n",
    "\n",
    "# Train Linear Regression model\n",
    "linear_model = LinearRegression()\n",
    "linear_model.fit(x_train, y_train)\n",
    "\n",
    "# Predict on both training and test datasets\n",
    "y_train_pred_linear = linear_model.predict(x_train)\n",
    "y_test_pred_linear = linear_model.predict(x_test)\n",
    "\n",
    "# Evaluate performance\n",
    "linear_results = {\n",
    "    \"Model\": \"Linear Regression\",\n",
    "    \"Train MSE\": mean_squared_error(y_train, y_train_pred_linear),\n",
    "    \"Test MSE\": mean_squared_error(y_test, y_test_pred_linear),\n",
    "    \"Train R2\": r2_score(y_train, y_train_pred_linear),\n",
    "    \"Test R2\": r2_score(y_test, y_test_pred_linear),\n",
    "}\n",
    "\n",
    "linear_results\n"
   ]
  },
  {
   "cell_type": "code",
   "execution_count": 12,
   "id": "274e142e-aa95-44d3-bea8-177d01fd6f65",
   "metadata": {},
   "outputs": [
    {
     "data": {
      "text/plain": [
       "({'Model': 'LASSO Regression',\n",
       "  'Train MSE': 0.0016352545529974998,\n",
       "  'Test MSE': 0.0015552467156225002,\n",
       "  'Train R2': 0.0,\n",
       "  'Test R2': -0.003605511028343056},\n",
       " {'Model': 'Ridge Regression',\n",
       "  'Train MSE': 2.7822240971579214e-05,\n",
       "  'Test MSE': 2.653019621443032e-05,\n",
       "  'Train R2': 0.9829859877652811,\n",
       "  'Test R2': 0.9828799824092165})"
      ]
     },
     "execution_count": 12,
     "metadata": {},
     "output_type": "execute_result"
    }
   ],
   "source": [
    "from sklearn.linear_model import Lasso, Ridge\n",
    "\n",
    "# Train LASSO Regression model\n",
    "lasso_model = Lasso(alpha=0.1)  # Regularization parameter (alpha)\n",
    "lasso_model.fit(x_train, y_train)\n",
    "\n",
    "# Predict on both training and test datasets\n",
    "y_train_pred_lasso = lasso_model.predict(x_train)\n",
    "y_test_pred_lasso = lasso_model.predict(x_test)\n",
    "\n",
    "# Evaluate performance\n",
    "lasso_results = {\n",
    "    \"Model\": \"LASSO Regression\",\n",
    "    \"Train MSE\": mean_squared_error(y_train, y_train_pred_lasso),\n",
    "    \"Test MSE\": mean_squared_error(y_test, y_test_pred_lasso),\n",
    "    \"Train R2\": r2_score(y_train, y_train_pred_lasso),\n",
    "    \"Test R2\": r2_score(y_test, y_test_pred_lasso),\n",
    "}\n",
    "\n",
    "# Train Ridge Regression model\n",
    "ridge_model = Ridge(alpha=0.1)  # Regularization parameter (alpha)\n",
    "ridge_model.fit(x_train, y_train)\n",
    "\n",
    "# Predict on both training and test datasets\n",
    "y_train_pred_ridge = ridge_model.predict(x_train)\n",
    "y_test_pred_ridge = ridge_model.predict(x_test)\n",
    "\n",
    "# Evaluate performance\n",
    "ridge_results = {\n",
    "    \"Model\": \"Ridge Regression\",\n",
    "    \"Train MSE\": mean_squared_error(y_train, y_train_pred_ridge),\n",
    "    \"Test MSE\": mean_squared_error(y_test, y_test_pred_ridge),\n",
    "    \"Train R2\": r2_score(y_train, y_train_pred_ridge),\n",
    "    \"Test R2\": r2_score(y_test, y_test_pred_ridge),\n",
    "}\n",
    "\n",
    "lasso_results, ridge_results\n"
   ]
  },
  {
   "cell_type": "code",
   "execution_count": null,
   "id": "598517fe-d913-4128-9f23-3f61a8b638e2",
   "metadata": {},
   "outputs": [],
   "source": []
  }
 ],
 "metadata": {
  "kernelspec": {
   "display_name": "Python 3 (ipykernel)",
   "language": "python",
   "name": "python3"
  },
  "language_info": {
   "codemirror_mode": {
    "name": "ipython",
    "version": 3
   },
   "file_extension": ".py",
   "mimetype": "text/x-python",
   "name": "python",
   "nbconvert_exporter": "python",
   "pygments_lexer": "ipython3",
   "version": "3.12.4"
  }
 },
 "nbformat": 4,
 "nbformat_minor": 5
}
