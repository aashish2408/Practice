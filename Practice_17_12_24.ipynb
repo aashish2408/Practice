{
 "cells": [
  {
   "cell_type": "markdown",
   "id": "1efdd421-2675-4495-b269-536142415b8d",
   "metadata": {},
   "source": [
    "## Firstly i have imported all the possible modules and libraries which can be required here"
   ]
  },
  {
   "cell_type": "code",
   "execution_count": 30,
   "id": "8e68c308-1f37-4538-8d56-803ccc62c713",
   "metadata": {},
   "outputs": [],
   "source": [
    "import pandas as pd\n",
    "import numpy as np\n",
    "import matplotlib.pyplot as plt\n",
    "from sklearn.model_selection import train_test_split\n",
    "from sklearn.preprocessing import StandardScaler\n",
    "from sklearn.linear_model import LinearRegression, Ridge, Lasso, ElasticNet\n",
    "from sklearn.metrics import r2_score\n",
    "from sklearn.model_selection import cross_val_score, GridSearchCV"
   ]
  },
  {
   "cell_type": "markdown",
   "id": "695e2708-8bcc-4008-a8ef-b7b210da759f",
   "metadata": {},
   "source": [
    "## Ta avoided unwanted warnings i have imported warnings libraries."
   ]
  },
  {
   "cell_type": "code",
   "execution_count": 32,
   "id": "dc062ce8-8d46-43b6-b0fa-ea3cd4608023",
   "metadata": {},
   "outputs": [],
   "source": [
    "import warnings\n",
    "\n",
    "warnings.filterwarnings('ignore', category = DeprecationWarning)\n",
    "from warnings import filterwarnings\n",
    "filterwarnings('ignore')"
   ]
  },
  {
   "cell_type": "markdown",
   "id": "67a30f2c-0bac-4b69-84a1-b979554d9673",
   "metadata": {},
   "source": [
    "## Here we have loaded the dataset."
   ]
  },
  {
   "cell_type": "code",
   "execution_count": 34,
   "id": "71e6b5bd-1f2f-4463-b8d7-b094b131616b",
   "metadata": {},
   "outputs": [
    {
     "data": {
      "text/html": [
       "<div>\n",
       "<style scoped>\n",
       "    .dataframe tbody tr th:only-of-type {\n",
       "        vertical-align: middle;\n",
       "    }\n",
       "\n",
       "    .dataframe tbody tr th {\n",
       "        vertical-align: top;\n",
       "    }\n",
       "\n",
       "    .dataframe thead th {\n",
       "        text-align: right;\n",
       "    }\n",
       "</style>\n",
       "<table border=\"1\" class=\"dataframe\">\n",
       "  <thead>\n",
       "    <tr style=\"text-align: right;\">\n",
       "      <th></th>\n",
       "      <th>Stock</th>\n",
       "      <th>Volatility</th>\n",
       "      <th>Market Return</th>\n",
       "      <th>Stock return</th>\n",
       "    </tr>\n",
       "  </thead>\n",
       "  <tbody>\n",
       "    <tr>\n",
       "      <th>0</th>\n",
       "      <td>S1</td>\n",
       "      <td>0.15</td>\n",
       "      <td>0.052</td>\n",
       "      <td>0.11460</td>\n",
       "    </tr>\n",
       "    <tr>\n",
       "      <th>1</th>\n",
       "      <td>S2</td>\n",
       "      <td>0.20</td>\n",
       "      <td>0.002</td>\n",
       "      <td>0.04520</td>\n",
       "    </tr>\n",
       "    <tr>\n",
       "      <th>2</th>\n",
       "      <td>S3</td>\n",
       "      <td>0.18</td>\n",
       "      <td>0.094</td>\n",
       "      <td>0.17376</td>\n",
       "    </tr>\n",
       "    <tr>\n",
       "      <th>3</th>\n",
       "      <td>S4</td>\n",
       "      <td>0.69</td>\n",
       "      <td>0.087</td>\n",
       "      <td>0.17008</td>\n",
       "    </tr>\n",
       "    <tr>\n",
       "      <th>4</th>\n",
       "      <td>S5</td>\n",
       "      <td>0.19</td>\n",
       "      <td>0.013</td>\n",
       "      <td>0.06048</td>\n",
       "    </tr>\n",
       "  </tbody>\n",
       "</table>\n",
       "</div>"
      ],
      "text/plain": [
       "  Stock  Volatility  Market Return  Stock return\n",
       "0    S1        0.15          0.052       0.11460\n",
       "1    S2        0.20          0.002       0.04520\n",
       "2    S3        0.18          0.094       0.17376\n",
       "3    S4        0.69          0.087       0.17008\n",
       "4    S5        0.19          0.013       0.06048"
      ]
     },
     "execution_count": 34,
     "metadata": {},
     "output_type": "execute_result"
    }
   ],
   "source": [
    "df = pd.read_csv(\"Stock_data.csv\")\n",
    "df.head()"
   ]
  },
  {
   "cell_type": "markdown",
   "id": "86a73009-fe38-465a-adf3-009c356f129f",
   "metadata": {},
   "source": [
    "## Here 'feature_cols' are explanatory varibles and stock return is target variable. "
   ]
  },
  {
   "cell_type": "code",
   "execution_count": 36,
   "id": "fc21838e-9b56-45a1-b52d-a4ca1ef33830",
   "metadata": {},
   "outputs": [],
   "source": [
    "feature_cols = ['Volatility', 'Market Return']\n",
    "x = df[feature_cols]\n",
    "y = df['Stock return']"
   ]
  },
  {
   "cell_type": "markdown",
   "id": "c133c422-fa78-4979-adcd-799cf600024a",
   "metadata": {},
   "source": [
    "## Now, Splitting into train and test set"
   ]
  },
  {
   "cell_type": "code",
   "execution_count": 38,
   "id": "e16a6353-4578-4ff6-b0f3-4059490e179b",
   "metadata": {},
   "outputs": [],
   "source": [
    "x_train, x_test, y_train, y_test = train_test_split(x, y, test_size = 0.3, random_state = 0)\n"
   ]
  },
  {
   "cell_type": "markdown",
   "id": "5f0b235b-66c2-48f1-bab8-e162bcddaa2f",
   "metadata": {},
   "source": [
    "## Linear Regression Model"
   ]
  },
  {
   "cell_type": "code",
   "execution_count": 40,
   "id": "65b87d7b-b9db-4425-a497-9bf0082d2768",
   "metadata": {},
   "outputs": [
    {
     "name": "stdout",
     "output_type": "stream",
     "text": [
      "Training accuracy : 1.0\n",
      "\n",
      "Testing accuracy : 1.0\n",
      "\n"
     ]
    }
   ],
   "source": [
    "lr = LinearRegression()\n",
    "\n",
    "# Train the model\n",
    "model_lr = lr.fit(x_train, y_train)\n",
    "\n",
    "# Prediction\n",
    "y_pred_train_lr = lr.predict(x_train)\n",
    "y_pred_test_lr = lr.predict(x_test)\n",
    "\n",
    "# Accuracy Score\n",
    "print('Training accuracy : {}\\n'.format(r2_score(y_train, y_pred_train_lr).round(5)))\n",
    "print('Testing accuracy : {}\\n'.format(r2_score(y_test, y_pred_test_lr).round(5)))"
   ]
  },
  {
   "cell_type": "code",
   "execution_count": 42,
   "id": "7e59da26-8bc4-451b-866f-058ad788647a",
   "metadata": {},
   "outputs": [
    {
     "name": "stdout",
     "output_type": "stream",
     "text": [
      "0.0\n"
     ]
    }
   ],
   "source": [
    "mse=cross_val_score(lr, x, y, scoring='neg_mean_squared_error',cv=5)\n",
    "mean_mse=np.mean(mse)\n",
    "print(-(mean_mse).round(5))"
   ]
  },
  {
   "cell_type": "markdown",
   "id": "9a63f1d8-70b7-4da7-924f-74cc1c56b295",
   "metadata": {},
   "source": [
    "## Ridge Regression Model"
   ]
  },
  {
   "cell_type": "code",
   "execution_count": 44,
   "id": "45f872e3-f574-44b0-af0d-0405d36944fb",
   "metadata": {},
   "outputs": [
    {
     "name": "stdout",
     "output_type": "stream",
     "text": [
      "Training accuracy : 0.59822\n",
      "\n",
      "Testing accuracy : 0.59802\n"
     ]
    }
   ],
   "source": [
    "ridge1 = Ridge()\n",
    "\n",
    "# Fit the model\n",
    "model_ridge1 = ridge1.fit(x_train, y_train)\n",
    "\n",
    "# Prediction\n",
    "y_pred_train_ridge1 = ridge1.predict(x_train)\n",
    "y_pred_test_ridge1 = ridge1.predict(x_test)\n",
    "\n",
    "# Accuracy Score\n",
    "print('Training accuracy : {}\\n'.format(r2_score(y_train, y_pred_train_ridge1).round(5)))\n",
    "print('Testing accuracy : {}'.format(r2_score(y_test, y_pred_test_ridge1).round(5)))"
   ]
  },
  {
   "cell_type": "code",
   "execution_count": 46,
   "id": "4ac6cf57-0a5d-4087-b0b5-79da9cd96aa0",
   "metadata": {},
   "outputs": [
    {
     "name": "stdout",
     "output_type": "stream",
     "text": [
      "0.00059\n"
     ]
    }
   ],
   "source": [
    "mse1 = cross_val_score(ridge1, x, y, scoring = 'neg_mean_squared_error',cv=5)\n",
    "mean_mse1 = np.mean(mse1)\n",
    "print(-(mean_mse1).round(5))"
   ]
  },
  {
   "cell_type": "markdown",
   "id": "5a7fcb08-4837-44b4-a88f-0a3e95b344f2",
   "metadata": {},
   "source": [
    "## Lasso Regression Model"
   ]
  },
  {
   "cell_type": "code",
   "execution_count": 48,
   "id": "46de4568-51af-43e1-b3df-22f609873cae",
   "metadata": {},
   "outputs": [
    {
     "name": "stdout",
     "output_type": "stream",
     "text": [
      "Training accuracy : 0.0\n",
      "\n",
      "Testing accuracy : -3e-05\n"
     ]
    }
   ],
   "source": [
    "lasso1 = Lasso()\n",
    "\n",
    "# Fit the model\n",
    "model_lasso1 = lasso1.fit(x_train, y_train)\n",
    "\n",
    "# Prediction\n",
    "y_pred_train_lasso1 = lasso1.predict(x_train)\n",
    "y_pred_test_lasso1 = lasso1.predict(x_test)\n",
    "\n",
    "# Accuracy Score\n",
    "print('Training accuracy : {}\\n'.format(r2_score(y_train, y_pred_train_lasso1).round(5)))\n",
    "print('Testing accuracy : {}'.format(r2_score(y_test, y_pred_test_lasso1).round(5)))"
   ]
  },
  {
   "cell_type": "code",
   "execution_count": 50,
   "id": "2b2aa178-64bd-4967-848f-c63d2d549d27",
   "metadata": {},
   "outputs": [
    {
     "name": "stdout",
     "output_type": "stream",
     "text": [
      "0.00163\n"
     ]
    }
   ],
   "source": [
    "mse2 = cross_val_score(lasso1, x, y, scoring = 'neg_mean_squared_error',cv=5)\n",
    "mean_mse2 = np.mean(mse2)\n",
    "print(-(mean_mse2).round(5))"
   ]
  },
  {
   "cell_type": "markdown",
   "id": "380e1e16-d79e-42db-ad47-7974bb4cbc12",
   "metadata": {},
   "source": [
    "## Net Elastic Regression"
   ]
  },
  {
   "cell_type": "code",
   "execution_count": 52,
   "id": "105d3709-9cdc-45c3-8951-2581035754d8",
   "metadata": {},
   "outputs": [
    {
     "name": "stdout",
     "output_type": "stream",
     "text": [
      "Training accuracy : 0.0\n",
      "\n",
      "Testing accuracy : -3e-05\n"
     ]
    }
   ],
   "source": [
    "enet1 = ElasticNet()\n",
    "\n",
    "# Fit the model\n",
    "model_enet1 = enet1.fit(x_train, y_train)\n",
    "\n",
    "# Prediction\n",
    "y_pred_train_enet1 = enet1.predict(x_train)\n",
    "y_pred_test_enet1 = enet1.predict(x_test)\n",
    "\n",
    "# Accuracy Score\n",
    "print('Training accuracy : {}\\n'.format(r2_score(y_train, y_pred_train_enet1).round(5)))\n",
    "print('Testing accuracy : {}'.format(r2_score(y_test, y_pred_test_enet1).round(5)))"
   ]
  },
  {
   "cell_type": "code",
   "execution_count": 69,
   "id": "e828a28e-14a7-48ff-bf0d-f34f64ea2a2e",
   "metadata": {},
   "outputs": [
    {
     "name": "stdout",
     "output_type": "stream",
     "text": [
      "0.00163\n"
     ]
    }
   ],
   "source": [
    "mse3 = cross_val_score(enet1, x, y, scoring = 'neg_mean_squared_error',cv=5)\n",
    "mean_mse3 = np.mean(mse3)\n",
    "print(-(mean_mse3).round(5))"
   ]
  },
  {
   "cell_type": "code",
   "execution_count": null,
   "id": "86921b4b-c22e-487f-9bef-2b554d0ff0d3",
   "metadata": {},
   "outputs": [],
   "source": []
  }
 ],
 "metadata": {
  "kernelspec": {
   "display_name": "Python 3 (ipykernel)",
   "language": "python",
   "name": "python3"
  },
  "language_info": {
   "codemirror_mode": {
    "name": "ipython",
    "version": 3
   },
   "file_extension": ".py",
   "mimetype": "text/x-python",
   "name": "python",
   "nbconvert_exporter": "python",
   "pygments_lexer": "ipython3",
   "version": "3.12.4"
  }
 },
 "nbformat": 4,
 "nbformat_minor": 5
}
